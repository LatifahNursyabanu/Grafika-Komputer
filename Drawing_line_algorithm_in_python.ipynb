{
  "nbformat": 4,
  "nbformat_minor": 0,
  "metadata": {
    "colab": {
      "name": "Drawing line algorithm in python.ipynb",
      "provenance": [],
      "collapsed_sections": [],
      "include_colab_link": true
    },
    "kernelspec": {
      "name": "python3",
      "display_name": "Python 3"
    },
    "language_info": {
      "name": "python"
    }
  },
  "cells": [
    {
      "cell_type": "markdown",
      "metadata": {
        "id": "view-in-github",
        "colab_type": "text"
      },
      "source": [
        "<a href=\"https://colab.research.google.com/github/LatifahNursyabanu/Grafika-Komputer/blob/main/Drawing_line_algorithm_in_python.ipynb\" target=\"_parent\"><img src=\"https://colab.research.google.com/assets/colab-badge.svg\" alt=\"Open In Colab\"/></a>"
      ]
    },
    {
      "cell_type": "code",
      "metadata": {
        "id": "h7QbrT0lCpJT"
      },
      "source": [
        "import matplotlib.pyplot as plt, pandas as pd"
      ],
      "execution_count": null,
      "outputs": []
    },
    {
      "cell_type": "code",
      "metadata": {
        "id": "3t6KfkVcAba6"
      },
      "source": [
        "def start_end(A, B):\n",
        "    if A[0] > B[0]:\n",
        "        return B,A\n",
        "    return A,B\n",
        "\n",
        "def inputpoint(name = \"A\"):\n",
        "    while True:\n",
        "      try:\n",
        "        point = input('Input point ' + name + '(x,y): ').split(',')\n",
        "        x = int(point[0])\n",
        "        y = int(point[1])\n",
        "        return [x, y]\n",
        "      except:\n",
        "        print('Error!')\n",
        "\n",
        "def rounding(x):\n",
        "  if x > int(x) + 0.5:\n",
        "    return int(x) + 1\n",
        "  return int(x)\n",
        "\n",
        "def plot_garis(AB,BC,CD):\n",
        "    plt.plot([AB['x'][0], AB['x'][-1]], [AB['y'][0], AB['y'][-1]], label = 'garis AB', color = 'red')\n",
        "    plt.scatter(AB['x'], AB['y'], color = 'red')\n",
        "    plt.plot(AB['x'], AB['y'], color = 'purple')\n",
        "\n",
        "    plt.plot([BC['x'][0], BC['x'][-1]], [BC['y'][0], BC['y'][-1]], label = 'garis BC', color = 'black')\n",
        "    plt.scatter(BC['x'], BC['y'], color = 'black')\n",
        "    plt.plot(BC['x'], BC['y'], color = 'green')\n",
        "\n",
        "    plt.plot([CD['x'][0], CD['x'][-1]], [CD['y'][0], CD['y'][-1]], label = 'garis CD', color = 'green')\n",
        "    plt.scatter(CD['x'], CD['y'], color = 'green')\n",
        "    plt.plot(CD['x'], CD['y'], color = 'black')\n",
        "    \n",
        "    plt.xlabel('X')\n",
        "    plt.ylabel('Y')\n",
        "    plt.legend()\n",
        "    plt.show()"
      ],
      "execution_count": null,
      "outputs": []
    },
    {
      "cell_type": "code",
      "metadata": {
        "colab": {
          "base_uri": "https://localhost:8080/"
        },
        "id": "UpWsXOhiKsxa",
        "outputId": "7bf39982-11b8-46e1-8db9-9b168bdf3a80"
      },
      "source": [
        "titikA = inputpoint(\"A\")\n",
        "titikB = inputpoint(\"B\")\n",
        "titikC = inputpoint(\"C\")\n",
        "titikD = inputpoint(\"D\")\n",
        "print('\\n')\n",
        "A, B, C, D = titikA, titikB, titikC, titikD"
      ],
      "execution_count": null,
      "outputs": [
        {
          "output_type": "stream",
          "name": "stdout",
          "text": [
            "Input point A(x,y): 10,11\n",
            "Input point B(x,y): 12,13\n",
            "Input point C(x,y): 13,14\n",
            "Input point D(x,y): 14,15\n",
            "\n",
            "\n"
          ]
        }
      ]
    },
    {
      "cell_type": "markdown",
      "metadata": {
        "id": "vA8prffL0vWI"
      },
      "source": [
        "#Algoritma DDA\n",
        "\n",
        "Digital Differential Analyzer (DDA) merupakan salah satu algoritma yang dapat digunakan dalam membuat garis di komputer dengan prinsip y = mx + c untuk mencari nilai x increment dan y increment.\n",
        "Kelemahan:\n",
        "1. Setelah dilakukan rounding, garisnya menjadi tidak mulus\n",
        "2. Waktu running lebih lama karena ada floating point\n",
        "\n",
        "Catatan : floating point terjadi saat mencari step sehingga perlu di rounding"
      ]
    },
    {
      "cell_type": "code",
      "metadata": {
        "id": "MG7vIMhE0sAV"
      },
      "source": [
        "def DDA(A,B):\n",
        "  (x1,y1),(x2,y2) = start_end(A,B)\n",
        "  coortitik = {\n",
        "        'x' : [int(x1)],\n",
        "        'y' : [int(y1)]\n",
        "    }\n",
        "  dx = x2-x1\n",
        "  dy = y2-y1\n",
        "  m = dy/dx\n",
        "\n",
        "  if abs(dx)>abs(dy):\n",
        "    steps = abs(dx)\n",
        "  elif abs(dx)<abs(dy):\n",
        "    steps = abs(dy)\n",
        "  elif abs(dx)==abs(dy)!=0:\n",
        "    steps = abs(dx)\n",
        "  else:\n",
        "    print('error!')\n",
        "\n",
        "  xinc = dx/steps\n",
        "  yinc = dy/steps\n",
        "\n",
        "  i = 0\n",
        "  xcoordinate =[]\n",
        "  ycoordinate =[]\n",
        "\n",
        "  while i<steps:\n",
        "    i+=1\n",
        "    x1 = round(x1+xinc)\n",
        "    y1 = round(y1+yinc)\n",
        "    coortitik['x'].append(x1)\n",
        "    coortitik['y'].append(y1)\n",
        "    if x1 == x2 and y1 == y2:\n",
        "        break\n",
        "\n",
        "  return coortitik"
      ],
      "execution_count": null,
      "outputs": []
    },
    {
      "cell_type": "code",
      "metadata": {
        "colab": {
          "base_uri": "https://localhost:8080/",
          "height": 473
        },
        "id": "MYDe6h8oNk4W",
        "outputId": "bc8b2c67-910e-46d0-9be3-58c514aa02e4"
      },
      "source": [
        "AB = DDA(A, B)\n",
        "BC = DDA(B, C)\n",
        "CD = DDA(C, D)\n",
        "print(pd.DataFrame(AB).T,'\\n')\n",
        "print(pd.DataFrame(BC).T,'\\n')\n",
        "print(pd.DataFrame(CD).T,'\\n')\n",
        "\n",
        "garis = [AB, BC, CD]\n",
        "plot_garis(AB, BC, CD)"
      ],
      "execution_count": null,
      "outputs": [
        {
          "output_type": "stream",
          "name": "stdout",
          "text": [
            "    0   1   2\n",
            "x  10  11  12\n",
            "y  11  12  13 \n",
            "\n",
            "    0   1\n",
            "x  12  13\n",
            "y  13  14 \n",
            "\n",
            "    0   1\n",
            "x  13  14\n",
            "y  14  15 \n",
            "\n"
          ]
        },
        {
          "output_type": "display_data",
          "data": {
            "image/png": "[encoded data removed]",
            "text/plain": [
              "<Figure size 432x288 with 1 Axes>"
            ]
          },
          "metadata": {
            "needs_background": "light"
          }
        }
      ]
    },
    {
      "cell_type": "markdown",
      "metadata": {
        "id": "ywJLhyVh0_mH"
      },
      "source": [
        "#Algoritma Brute Force"
      ]
    },
    {
      "cell_type": "code",
      "metadata": {
        "id": "_Ph5FDsq361a"
      },
      "source": [
        "def BF(t1,t2):\n",
        "  (x1, y1),(x2, y2) = start_end(A,B)\n",
        "  coortitik1 = {\n",
        "        'x' : [int(x1)],\n",
        "        'y' : [int(y1)]\n",
        "    }\n",
        "\n",
        "  if x1 == x2:\n",
        "    x1 = x1\n",
        "    y1 += y1\n",
        "  elif y1 == y2:\n",
        "    x1 += 1\n",
        "    y1 = y1\n",
        "  else:\n",
        "    x, y = x1, y1\n",
        "\n",
        "  dx = (x2) - (x1)\n",
        "  dy = (y2) - (y1)\n",
        "  N = x2-x1+1 \n",
        "  m = dy/dx\n",
        "  \n",
        "  for i in range(N):\n",
        "    y = m*(x-x1)+y1\n",
        "    y = round(y)\n",
        "    coortitik1['x'].append(x)\n",
        "    coortitik1['y'].append(y)\n",
        "    x += 1\n",
        "    i += 1\n",
        "  return coortitik1\n",
        "  "
      ],
      "execution_count": null,
      "outputs": []
    },
    {
      "cell_type": "code",
      "metadata": {
        "colab": {
          "base_uri": "https://localhost:8080/",
          "height": 490
        },
        "id": "jf3hq-jvM5qb",
        "outputId": "763bf64e-0b7b-4528-a373-e5d7d91b40df"
      },
      "source": [
        "AB = BF(A, B)\n",
        "BC = BF(B, C)\n",
        "CD = BF(C, D)\n",
        "print('\\n',pd.DataFrame(AB).T,'\\n')\n",
        "print(pd.DataFrame(BC).T,'\\n')\n",
        "print(pd.DataFrame(CD).T,'\\n')\n",
        "\n",
        "garis = [AB, BC, CD]\n",
        "plot_garis(AB, BC, CD)"
      ],
      "execution_count": null,
      "outputs": [
        {
          "output_type": "stream",
          "name": "stdout",
          "text": [
            "\n",
            "     0   1   2   3\n",
            "x  10  10  11  12\n",
            "y  11  11  12  13 \n",
            "\n",
            "    0   1   2   3\n",
            "x  10  10  11  12\n",
            "y  11  11  12  13 \n",
            "\n",
            "    0   1   2   3\n",
            "x  10  10  11  12\n",
            "y  11  11  12  13 \n",
            "\n"
          ]
        },
        {
          "output_type": "display_data",
          "data": {
            "image/png": "[encoded data removed]",
            "text/plain": [
              "<Figure size 432x288 with 1 Axes>"
            ]
          },
          "metadata": {
            "needs_background": "light"
          }
        }
      ]
    },
    {
      "cell_type": "markdown",
      "metadata": {
        "id": "8C00QmYE1KBK"
      },
      "source": [
        "#Algoritma Bressenham"
      ]
    },
    {
      "cell_type": "code",
      "metadata": {
        "id": "CNeHL5hF1OvJ"
      },
      "source": [
        "def bres(t1,t2):\n",
        "  (x1,y1),(x2,y2)= start_end(A,B)\n",
        "  coortitik2 = {\n",
        "      'x' : [int(x1)],\n",
        "      'y' : [int(y1)]\n",
        "  }\n",
        "  dx = x2-x1\n",
        "  dy = y2-y1\n",
        "  m = dy/(dx)\n",
        "\n",
        "  if m > 1:\n",
        "    p = 2*(dx-dy)\n",
        "  else:\n",
        "    p = 2*(dy-dx)\n",
        "  \n",
        "  while True:\n",
        "    if m < -1:\n",
        "      if p<0:\n",
        "        y1 -= 1\n",
        "        p += 2*dx\n",
        "      else:\n",
        "        x1 += 1\n",
        "        y1 -= 1\n",
        "        p += 2*(dx-dy)\n",
        "\n",
        "    elif m > 0 and m < 1:\n",
        "      if p<0:\n",
        "        x1 += 1\n",
        "        p += 2*dy\n",
        "      else:\n",
        "        x1 += 1\n",
        "        y1 += 1\n",
        "        p += 2*(dy-dx)\n",
        "\n",
        "    elif m > -1 and m < 0:\n",
        "      if pk < 0:\n",
        "        x1 += 1\n",
        "        p += 2*dy\n",
        "      else:\n",
        "        x1 += 1\n",
        "        y1 -= 1\n",
        "        p += 2*(dy-dx)\n",
        "  \n",
        "    elif m > 1:\n",
        "      if pk < 0:\n",
        "        y1 += 1\n",
        "        p += 2*dx\n",
        "      else:\n",
        "        x1 += 1\n",
        "        y1 += 1\n",
        "        p += 2*(dx-dy)\n",
        "\n",
        "    coortitik2['x'].append(x1)\n",
        "    coortitik2['y'].append(y1)\n",
        "\n",
        "    if m <= 0:\n",
        "      if x1 >= x2 and y1 <= y2:\n",
        "        break\n",
        "    elif m > 0:\n",
        "      if x1 >= x2 and y1 >= y2:\n",
        "        break\n",
        "  return coortitik2"
      ],
      "execution_count": null,
      "outputs": []
    },
    {
      "cell_type": "code",
      "metadata": {
        "id": "Tze-llHwOkba"
      },
      "source": [
        "AB = bres(A, B)\n",
        "BC = bres(B, C)\n",
        "CD = bres(C, D)\n",
        "print('\\n',pd.DataFrame(AB).T,'\\n')\n",
        "print(pd.DataFrame(BC).T,'\\n')\n",
        "print(pd.DataFrame(CD).T,'\\n')\n",
        "\n",
        "garis = [AB, BC, CD]\n",
        "plot_garis(AB, BC, CD)"
      ],
      "execution_count": null,
      "outputs": []
    },
    {
      "cell_type": "markdown",
      "source": [
        "#Thank you\n",
        "enable to open discussion! contact me https://www.linkedin.com/in/latifah-nursya-banu\n",
        "*u can do ur own research and experiment to get more insight*\n"
      ],
      "metadata": {
        "id": "SLqNTDPf0DwL"
      }
    }
  ]
}